{
 "cells": [
  {
   "cell_type": "markdown",
   "metadata": {},
   "source": [
    "## Bài 1 :\n",
    "Mẫu dưới đây thu nhận ngẫu nhiên độ tuổi của người mắc bệnh tiểu đường ở một địa bàn trong thời gian khảo sát:\n",
    "\n",
    "**35 37 40 42 55 57 60 61 66 45**\n",
    "\n",
    "Có ý kiến cho rằng \"Người mắc bệnh tiểu đường có độ tuổi trung bình trên 45 tuổi\". Với\n",
    "mức ý nghĩa 5% bạn hãy kiểm định ý kiến này đúng hay sai? Hãy tính toán và đưa ra kết\n",
    "luận?\n",
    "\n",
    "--------------------------------------"
   ]
  },
  {
   "cell_type": "markdown",
   "metadata": {},
   "source": [
    "**Cách 1** : \n",
    "\n",
    "Vì cần kiểm định độ tuổi trung bình của người mắc bệnh tiểu đường có lớn hơn 45 tuổi hay không nên ta đặt :\n",
    "$$\\left\\{\\begin{matrix}\n",
    "H_0 : & \\mu \\leq 45\\\\  \n",
    "H_1 : & \\mu > 45\n",
    "\\end{matrix}\\right.$$\n",
    "\n",
    "Mức ý nghĩa $\\alpha = 0.05 \\implies $ tra bảng phân phối T(student) ta được $\\displaystyle t_{\\alpha}^{n-1} = t_{0.05}^{9} = 1.833$\n",
    "(Vì n<30 nên ta dùng phân phối T(student) thay vì phân phối Z)\n",
    "\n",
    "Ta có : $n = 10$ , $\\mu_0 = 45$ \n",
    "\n",
    "$\\displaystyle \\overline{x} = \\frac{35 + 37 + 40 + 42 + 55 + 57 + 60 + 61 + 66 + 45}{n} =  \\frac{498}{10} = 49.8$\n",
    "\n",
    "$\\displaystyle s^2 = \\frac{\\sum_{i=1}^{n}(x_i - \\overline{x})^2}{n-1} = \\frac{ \\sum_{i=1}^{n}x_i^2 - n\\overline{x}^2}{n-1} = \\frac{  25934 - 10(49.8)^2}{9} =  125.955556 \\implies s = 11.22$\n",
    "\n",
    "Trị thống kê : $\\displaystyle t_0 = \\frac{\\overline{x} - \\mu_0}{\\frac{s}{\\sqrt{n}}} = \\frac{49.8 - 45}{\\frac{11.22}{\\sqrt{10}}} = 1.3528$\n",
    "\n",
    "Miền bác bỏ : $\\displaystyle \\left\\{t_0 > t_{\\alpha}^{n-1} \\right\\} = \\left\\{t_0 > t_{0.05}^{9} \\right\\} = \\left\\{1.3528 > 1.833 \\right\\}$\n",
    "\n",
    "Vì $\\displaystyle t_0 = 1.3528 < t_{\\alpha}^{n-1} = 1.833$ nên ta không bác bỏ $H_0$ và kết luận người mắc bệnh tiểu đường có độ tuổi trung bình không lớn hơn 45 tuổi => kết luận sai "
   ]
  },
  {
   "cell_type": "code",
   "execution_count": 97,
   "metadata": {},
   "outputs": [
    {
     "data": {
      "text/markdown": [
       "$\\Large \\displaystyle \\overline{x}$ = 49.8"
      ],
      "text/plain": [
       "<IPython.core.display.Markdown object>"
      ]
     },
     "metadata": {},
     "output_type": "display_data"
    },
    {
     "name": "stdout",
     "output_type": "stream",
     "text": [
      "s =  11.222992272810115\n"
     ]
    },
    {
     "data": {
      "text/markdown": [
       "$t_0$ = 1.3524853621776194"
      ],
      "text/plain": [
       "<IPython.core.display.Markdown object>"
      ]
     },
     "metadata": {},
     "output_type": "display_data"
    },
    {
     "data": {
      "text/markdown": [
       "$t_{\\alpha}^{(n-1)}$ = 1.8331129326536333"
      ],
      "text/plain": [
       "<IPython.core.display.Markdown object>"
      ]
     },
     "metadata": {},
     "output_type": "display_data"
    },
    {
     "data": {
      "text/markdown": [
       "$H_0: u \\leq 45$"
      ],
      "text/plain": [
       "<IPython.core.display.Markdown object>"
      ]
     },
     "metadata": {},
     "output_type": "display_data"
    },
    {
     "data": {
      "text/markdown": [
       "$H_1: u > 45$"
      ],
      "text/plain": [
       "<IPython.core.display.Markdown object>"
      ]
     },
     "metadata": {},
     "output_type": "display_data"
    },
    {
     "data": {
      "text/markdown": [
       "Miền bác bỏ của $H_0$ là  $t_0 > t_{\\alpha}^{(n-1)}$"
      ],
      "text/plain": [
       "<IPython.core.display.Markdown object>"
      ]
     },
     "metadata": {},
     "output_type": "display_data"
    },
    {
     "data": {
      "text/markdown": [
       "$|t_0| \\leq t_{\\alpha} \\Rightarrow$ Chấp nhận $H_0$"
      ],
      "text/plain": [
       "<IPython.core.display.Markdown object>"
      ]
     },
     "metadata": {},
     "output_type": "display_data"
    },
    {
     "name": "stdout",
     "output_type": "stream",
     "text": [
      "Kết luận: Vậy khẳng định \"Người mắc bệnh tiểu đường có độ tuổi trung bình trên 45 tuổi\" là sai\n"
     ]
    }
   ],
   "source": [
    "# Cách 2 : làm bằng code\n",
    "\n",
    "from IPython.display import display, Markdown\n",
    "import numpy as np\n",
    "A = np.array([35, 37, 40, 42, 55, 57, 60, 61, 66, 45])\n",
    "\n",
    "x_mean = np.mean(A)\n",
    "display(Markdown(r'$\\Large \\displaystyle \\overline{x}$ = '+str(x_mean)))\n",
    "\n",
    "s = np.std(A, ddof=1) # np.sqrt(sum(A**2)-10*A_mean**2)/9 , np.sqrt((sum((A-A_mean)**2))/9)\n",
    "print('s = ', s)\n",
    "\n",
    "u_0 = 45\n",
    "n = 10\n",
    "\n",
    "t_0 = (x_mean - u_0)/(s/np.sqrt(n))\n",
    "display(Markdown(r'$t_0$ = '+str(t_0)))\n",
    "\n",
    "from scipy.stats import t\n",
    "alpha = 0.05\n",
    "t_alpha = t.ppf(1-alpha, n-1)\n",
    "display(Markdown(r'$t_{\\alpha}^{(n-1)}$ = '+str(t_alpha)))\n",
    "\n",
    "display(Markdown(f'$H_0: u \\leq {u_0}$'))\n",
    "display(Markdown(f'$H_1: u > {u_0}$'))\n",
    "\n",
    "display(Markdown(r'Miền bác bỏ của $H_0$ là  $t_0 > t_{\\alpha}^{(n-1)}$'))\n",
    "\n",
    "if t_0 > t_alpha:\n",
    "    display(Markdown(r'$|t_0| > t_{\\alpha} \\Rightarrow$ Bác bỏ $H_0$'))\n",
    "    print('Kết luận: Vậy khẳng định \"Người mắc bệnh tiểu đường có độ tuổi trung bình trên 45 tuổi\" là đúng')\n",
    "else:\n",
    "    display(Markdown(r'$|t_0| \\leq t_{\\alpha} \\Rightarrow$ Chấp nhận $H_0$'))\n",
    "    print('Kết luận: Vậy khẳng định \"Người mắc bệnh tiểu đường có độ tuổi trung bình trên 45 tuổi\" là sai')\n",
    "\n"
   ]
  },
  {
   "cell_type": "markdown",
   "metadata": {},
   "source": [
    "## Bài 2 :\n",
    "Điều tra chi tiêu hàng năm của 40 công nhân khu công nghiệp A thấy trung bình mẫu là 34 triệu đồng và độ lệch chuẩn mẫu là 5,8 triệu đồng. Điều tra công nhân tại khu công nghiệp B thì chi tiêu trung bình là 35 triệu đồng và độ lệch chuẩn là 5 triệu đồng.\n",
    "- Với mức ý nghĩa 5%, có thể cho rằng chỉ tiêu trung bình của công nhân khu công nghiệp A và B là như nhau không?\n",
    "- Tính p-value của kiểm định và cho biết kết luận thu được có thể mắc phải sai lầm loại mấy? Giả thiết chi tiêu công nhân là biến ngẫu nhiên phân phối chuẩn\n",
    "\n",
    "--------------------------------------\n",
    "\n",
    "**Cách 1** :\n",
    "\n",
    "Vì cần kiểm định chỉ tiêu trung bình của công nhân khu công nghiệp A và B có bằng nhau hay không nên ta đặt :\n",
    "$$\\left\\{\\begin{matrix}\n",
    "H_0 : & \\mu_A = \\mu_B = 35 \\\\\n",
    "H_1 : & \\mu_A \\neq \\mu_B\n",
    "\\end{matrix}\\right.$$\n",
    "\n",
    "\n",
    "Mức ý nghĩa $\\alpha = 0.05 \\implies $ tra bảng phân phối chuẩn (Z) ta được $\\displaystyle z_{\\frac{\\alpha}{2}} = z_{0.025} = 1.96$ (Vì n>30 nên ta dùng phân phối Z thay vì phân phối T)\n",
    "\n",
    "Ta có : $n_A = 40$ , $\\overline{x}_A = 34$ , $\\mu_B = 35$ , $s_A = 5.8$ , $\\sigma_B = 5$\n",
    "\n",
    "Trị thống kê : $\\displaystyle z_0 = \\frac{\\overline{x}_A - \\mu_B}{\\frac{s_A}{\\sqrt{n_A}}} = \\frac{34 - 35}{\\frac{5.8}{\\sqrt{40}}} = -1.09$\n",
    "\n",
    "Miền bác bỏ : $\\displaystyle \\left\\{|z_0| > z_{\\frac{\\alpha}{2}} \\right\\} = \\left\\{|z_0| > z_{0.025} \\right\\} = \\left\\{|-1.09| > 1.96 \\right\\}$\n",
    "\n",
    "Vì $\\displaystyle |-1.09| = 1.09 < z_{\\frac{\\alpha}{2}} = 1.96$ nên chấp nhận $H_0$ và kết luận chỉ tiêu trung bình của công nhân khu công nghiệp A và B là như nhau "
   ]
  },
  {
   "cell_type": "code",
   "execution_count": 98,
   "metadata": {},
   "outputs": [
    {
     "data": {
      "text/markdown": [
       "$z_0$ = -1.090440572471855"
      ],
      "text/plain": [
       "<IPython.core.display.Markdown object>"
      ]
     },
     "metadata": {},
     "output_type": "display_data"
    },
    {
     "data": {
      "text/markdown": [
       "$z_{\\alpha/2}$ = 1.959963984540054"
      ],
      "text/plain": [
       "<IPython.core.display.Markdown object>"
      ]
     },
     "metadata": {},
     "output_type": "display_data"
    },
    {
     "data": {
      "text/markdown": [
       "$H_0: u_A = u_B = 35$"
      ],
      "text/plain": [
       "<IPython.core.display.Markdown object>"
      ]
     },
     "metadata": {},
     "output_type": "display_data"
    },
    {
     "data": {
      "text/markdown": [
       "$H_1: u_A \\neq {u_B}$"
      ],
      "text/plain": [
       "<IPython.core.display.Markdown object>"
      ]
     },
     "metadata": {},
     "output_type": "display_data"
    },
    {
     "data": {
      "text/markdown": [
       "Miền bác bỏ của $H_0$ là  $|z_0| > z_{\\alpha/2}$"
      ],
      "text/plain": [
       "<IPython.core.display.Markdown object>"
      ]
     },
     "metadata": {},
     "output_type": "display_data"
    },
    {
     "data": {
      "text/markdown": [
       "$|z_0| \\leq z_{\\alpha/2} \\Rightarrow$ Chấp nhận $H_0$"
      ],
      "text/plain": [
       "<IPython.core.display.Markdown object>"
      ]
     },
     "metadata": {},
     "output_type": "display_data"
    },
    {
     "name": "stdout",
     "output_type": "stream",
     "text": [
      "Kết luận: Vậy chỉ tiêu trung bình của công nhân khu công nghiệp A và B là như nhau\n"
     ]
    }
   ],
   "source": [
    "# Cách 2\n",
    "\n",
    "from IPython.display import display, Markdown\n",
    "import numpy as np\n",
    "\n",
    "x_mean_A = 34\n",
    "s_A = 5.8\n",
    "n_A = 40\n",
    "\n",
    "u_B = 35\n",
    "std_B = 5\n",
    "\n",
    "alpha = 0.05\n",
    "alpha_2 = alpha/2\n",
    "\n",
    "z_0 = (x_mean_A - u_B)/(s_A/np.sqrt(n_A))\n",
    "display(Markdown(r'$z_0$ = '+str(z_0)))\n",
    "\n",
    "from scipy.stats import norm\n",
    "z_alpha = norm.ppf(1-alpha_2)\n",
    "display(Markdown(r'$z_{\\alpha/2}$ = '+str(z_alpha)))\n",
    "\n",
    "display(Markdown(f'$H_0: u_A = u_B = {u_B}$'))\n",
    "display(Markdown(r'$H_1: u_A \\neq {u_B}$'))\n",
    "\n",
    "display(Markdown(r'Miền bác bỏ của $H_0$ là  $|z_0| > z_{\\alpha/2}$'))\n",
    "\n",
    "if abs(z_0) > z_alpha:\n",
    "    display(Markdown(r'$|z_0| > z_{\\alpha/2} \\Rightarrow$ Bác bỏ $H_0$'))\n",
    "else:\n",
    "    display(Markdown(r'$|z_0| \\leq z_{\\alpha/2} \\Rightarrow$ Chấp nhận $H_0$'))\n",
    "    print('Kết luận: Vậy chỉ tiêu trung bình của công nhân khu công nghiệp A và B là như nhau')\n"
   ]
  },
  {
   "cell_type": "markdown",
   "metadata": {},
   "source": [
    "## Bài 3\n",
    "Quảng cáo của một công ty cho rằng tỷ lệ phế phẩm của công ty trên thị trường tối đa là 12%. Kiểm tra 400 sản phẩm của công ty trên thị trường thì có 60 phế phẩm. Với mức ý nghĩa 5% có thể cho rằng quảng cáo của công ty là đúng không?\n",
    "\n",
    "--------------------------------------\n"
   ]
  },
  {
   "cell_type": "markdown",
   "metadata": {},
   "source": [
    "Vì cần kiểm định tỷ lệ phế phẩm của công ty trên thị trường tối đa là 12% hay không nên ta đặt :\n",
    "$$\\left\\{\\begin{matrix}\n",
    "H_0 : & p \\leq 0.12 \\\\\n",
    "H_1 : & p > 0.12\n",
    "\\end{matrix}\\right.$$\n",
    "\n",
    "Mức ý nghĩa $\\alpha = 0.05 \\implies $ tra bảng phân phối chuẩn (Z) ta được $\\displaystyle z_{\\alpha} = z_{0.05} = 1.645$ (Vì n=400>30 nên ta dùng phân phối Z thay vì phân phối T)\n",
    "\n",
    "Ta có : $n = 400$ , $p_0 = 0.12$ , $f = \\frac{60}{400} = 0.15 $ (có một số tài liệu sẽ lấy gọi $f$ là $\\hat{p}$)\n",
    "\n",
    "Trị thống kê : $\\displaystyle z_0 = \\frac{f - p_0}{\\displaystyle \\sqrt{\\frac{p_0(1-p_0)}{n}}} =  \\frac{0.15 - 0.12}{\\sqrt{\\displaystyle \\frac{0.12(1-0.12)}{400}}} \\approx 1.8464$\n",
    "\n",
    "Miền bác bỏ : $\\displaystyle \\left\\{z_0 > z_{\\alpha} \\right\\} = \\left\\{z_0 > z_{0.05} \\right\\} = \\left\\{1.8464 > 1.645 \\right\\}$\n",
    "\n",
    "Vì $\\displaystyle z_0 = 1.8464 > z_{\\alpha} = 1.645$ nên ta bác bỏ $H_0$ và kết luận tỷ lệ phế phẩm của công ty trên thị trường tối đa không phải là 12% => quảng cáo của công ty không đúng\n",
    "\n",
    "\n"
   ]
  },
  {
   "cell_type": "code",
   "execution_count": 109,
   "metadata": {},
   "outputs": [
    {
     "data": {
      "text/markdown": [
       "$f $ = 0.15(có tài liệu gọi là $\\hat{p}$)"
      ],
      "text/plain": [
       "<IPython.core.display.Markdown object>"
      ]
     },
     "metadata": {},
     "output_type": "display_data"
    },
    {
     "data": {
      "text/markdown": [
       "$z_0$ = 1.846372364689991"
      ],
      "text/plain": [
       "<IPython.core.display.Markdown object>"
      ]
     },
     "metadata": {},
     "output_type": "display_data"
    },
    {
     "data": {
      "text/markdown": [
       "$z_{\\alpha}$ = 1.6448536269514722"
      ],
      "text/plain": [
       "<IPython.core.display.Markdown object>"
      ]
     },
     "metadata": {},
     "output_type": "display_data"
    },
    {
     "data": {
      "text/markdown": [
       "$H_0: p \\leq 0.12$"
      ],
      "text/plain": [
       "<IPython.core.display.Markdown object>"
      ]
     },
     "metadata": {},
     "output_type": "display_data"
    },
    {
     "data": {
      "text/markdown": [
       "$H_1: p > 0.12$"
      ],
      "text/plain": [
       "<IPython.core.display.Markdown object>"
      ]
     },
     "metadata": {},
     "output_type": "display_data"
    },
    {
     "data": {
      "text/markdown": [
       "Miền bác bỏ của $H_0$ là  $z_0 > z_{\\alpha}$"
      ],
      "text/plain": [
       "<IPython.core.display.Markdown object>"
      ]
     },
     "metadata": {},
     "output_type": "display_data"
    },
    {
     "data": {
      "text/markdown": [
       "$z_0 > z_{\\alpha} \\Rightarrow$ Bác bỏ $H_0$"
      ],
      "text/plain": [
       "<IPython.core.display.Markdown object>"
      ]
     },
     "metadata": {},
     "output_type": "display_data"
    },
    {
     "name": "stdout",
     "output_type": "stream",
     "text": [
      "Kết luận: Vậy quảng cáo của công ty là sai\n"
     ]
    }
   ],
   "source": [
    "'''Quảng cáo của một công ty cho rằng tỷ lệ phế phẩm của công ty trên thị trường tối đa là 12%. Kiểm tra 400 sản phẩm của công ty trên thị trường thì có 60 phế phẩm. Với mức ý nghĩa 5% có thể cho rằng quảng cáo của công ty là đúng không?'''\n",
    "\n",
    "from IPython.display import display, Markdown\n",
    "import numpy as np\n",
    "\n",
    "p_0 = 0.12\n",
    "n = 400\n",
    "x = 60\n",
    "\n",
    "f = x/n\n",
    "display(Markdown(r'$f $ = '+str(f)+ '(có tài liệu gọi là $\\hat{p}$)'))\n",
    "\n",
    "z_0 = (f - p_0)/np.sqrt(p_0*(1-p_0)/n)\n",
    "display(Markdown(r'$z_0$ = '+str(z_0)))\n",
    "\n",
    "from scipy.stats import norm\n",
    "alpha = 0.05\n",
    "z_alpha = norm.ppf(1-alpha)\n",
    "display(Markdown(r'$z_{\\alpha}$ = '+str(z_alpha)))\n",
    "\n",
    "display(Markdown(f'$H_0: p \\leq {p_0}$'))\n",
    "display(Markdown(f'$H_1: p > {p_0}$'))\n",
    "\n",
    "display(Markdown(r'Miền bác bỏ của $H_0$ là  $z_0 > z_{\\alpha}$'))\n",
    "\n",
    "if z_0 > z_alpha:\n",
    "    display(Markdown(r'$z_0 > z_{\\alpha} \\Rightarrow$ Bác bỏ $H_0$'))\n",
    "    print('Kết luận: Vậy quảng cáo của công ty là sai')\n",
    "else:\n",
    "    display(Markdown(r'$z_0 \\leq z_{\\alpha} \\Rightarrow$ Chấp nhận $H_0$'))\n",
    "    print('Kết luận: Vậy quảng cáo của công ty là đúng')\n"
   ]
  }
 ],
 "metadata": {
  "kernelspec": {
   "display_name": "Python 3",
   "language": "python",
   "name": "python3"
  },
  "language_info": {
   "codemirror_mode": {
    "name": "ipython",
    "version": 3
   },
   "file_extension": ".py",
   "mimetype": "text/x-python",
   "name": "python",
   "nbconvert_exporter": "python",
   "pygments_lexer": "ipython3",
   "version": "3.8.5"
  }
 },
 "nbformat": 4,
 "nbformat_minor": 2
}
